{
  "nbformat": 4,
  "nbformat_minor": 0,
  "metadata": {
    "anaconda-cloud": {},
    "colab": {
      "name": "NLP_hw02_Unsupervised_MT.ipynb",
      "provenance": [],
      "collapsed_sections": [],
      "machine_shape": "hm"
    },
    "kernelspec": {
      "display_name": "Py3 research env",
      "language": "python",
      "name": "py3_research"
    },
    "language_info": {
      "codemirror_mode": {
        "name": "ipython",
        "version": 3
      },
      "file_extension": ".py",
      "mimetype": "text/x-python",
      "name": "python",
      "nbconvert_exporter": "python",
      "pygments_lexer": "ipython3",
      "version": "3.7.7"
    }
  },
  "cells": [
    {
      "cell_type": "markdown",
      "metadata": {
        "id": "eulvfJWl7ueY"
      },
      "source": [
        "## Homework 02: Unsupervised embedding-based MT\n",
        "*Note: this homework is based on open materials from yandexdataschool [NLP course](https://github.com/yandexdataschool/nlp_course/). Feel free to check this awesome course if you wish to dig deeper.*\n",
        "\n",
        "*Refined by [Nikolay Karpachev](https://www.linkedin.com/in/nikolay-karpachev-b0146a104/)*"
      ]
    },
    {
      "cell_type": "markdown",
      "metadata": {
        "id": "fV4rIjxa7uei"
      },
      "source": [
        "**In this homework** **<font color='red'>YOU</font>** will make machine translation system without using parallel corpora, alignment, attention, 100500 depth super-cool recurrent neural network and all that kind superstuff.\n",
        "\n",
        "But even without parallel corpora this system can be good enough (hopefully), in particular for similar languages, e.g. Ukrainian and Russian. "
      ]
    },
    {
      "cell_type": "markdown",
      "metadata": {
        "id": "idSYq2GU7uew"
      },
      "source": [
        "### Frament of the Swadesh list for some slavic languages\n",
        "\n",
        "The Swadesh list is a lexicostatistical stuff. It's named after American linguist Morris Swadesh and contains basic lexis. This list are used to define subgroupings of languages, its relatedness.\n",
        "\n",
        "So we can see some kind of word invariance for different Slavic languages.\n",
        "\n",
        "\n",
        "| Russian         | Belorussian              | Ukrainian               | Polish             | Czech                         | Bulgarian            |\n",
        "|-----------------|--------------------------|-------------------------|--------------------|-------------------------------|-----------------------|\n",
        "| женщина         | жанчына, кабета, баба    | жінка                   | kobieta            | žena                          | жена                  |\n",
        "| мужчина         | мужчына                  | чоловік, мужчина        | mężczyzna          | muž                           | мъж                   |\n",
        "| человек         | чалавек                  | людина, чоловік         | człowiek           | člověk                        | човек                 |\n",
        "| ребёнок, дитя   | дзіця, дзіцёнак, немаўля | дитина, дитя            | dziecko            | dítě                          | дете                  |\n",
        "| жена            | жонка                    | дружина, жінка          | żona               | žena, manželka, choť          | съпруга, жена         |\n",
        "| муж             | муж, гаспадар            | чоловiк, муж            | mąż                | muž, manžel, choť             | съпруг, мъж           |\n",
        "| мать, мама      | маці, матка              | мати, матір, неня, мама | matka              | matka, máma, 'стар.' mateř    | майка                 |\n",
        "| отец, тятя      | бацька, тата             | батько, тато, татусь    | ojciec             | otec                          | баща, татко           |\n",
        "| много           | шмат, багата             | багато                  | wiele              | mnoho, hodně                  | много                 |\n",
        "| несколько       | некалькі, колькі         | декілька, кілька        | kilka              | několik, pár, trocha          | няколко               |\n",
        "| другой, иной    | іншы                     | інший                   | inny               | druhý, jiný                   | друг                  |\n",
        "| зверь, животное | жывёла, звер, істота     | тварина, звір           | zwierzę            | zvíře                         | животно               |\n",
        "| рыба            | рыба                     | риба                    | ryba               | ryba                          | риба                  |\n",
        "| птица           | птушка                   | птах, птиця             | ptak               | pták                          | птица                 |\n",
        "| собака, пёс     | сабака                   | собака, пес             | pies               | pes                           | куче, пес             |\n",
        "| вошь            | вош                      | воша                    | wesz               | veš                           | въшка                 |\n",
        "| змея, гад       | змяя                     | змія, гад               | wąż                | had                           | змия                  |\n",
        "| червь, червяк   | чарвяк                   | хробак, черв'як         | robak              | červ                          | червей                |\n",
        "| дерево          | дрэва                    | дерево                  | drzewo             | strom, dřevo                  | дърво                 |\n",
        "| лес             | лес                      | ліс                     | las                | les                           | гора, лес             |\n",
        "| палка           | кій, палка               | палиця                  | patyk, pręt, pałka | hůl, klacek, prut, kůl, pálka | палка, пръчка, бастун |"
      ]
    },
    {
      "cell_type": "markdown",
      "metadata": {
        "id": "cNM3_fjr7ue2"
      },
      "source": [
        "But the context distribution of these languages demonstrates even more invariance. And we can use this fact for our for our purposes."
      ]
    },
    {
      "cell_type": "markdown",
      "metadata": {
        "id": "YLppwa527ue6"
      },
      "source": [
        "## Data"
      ]
    },
    {
      "cell_type": "code",
      "metadata": {
        "id": "lYBGKAUn7ue_"
      },
      "source": [
        "import gensim\n",
        "import numpy as np\n",
        "from gensim.models import KeyedVectors"
      ],
      "execution_count": 1,
      "outputs": []
    },
    {
      "cell_type": "markdown",
      "metadata": {
        "id": "MwGoVhRA7ufP"
      },
      "source": [
        "In this notebook we're going to use pretrained word vectors - FastText (original paper - https://arxiv.org/abs/1607.04606).\n",
        "\n",
        "You can download them from the official [website](https://fasttext.cc/docs/en/crawl-vectors.html). We're going to need embeddings for Russian and Ukrainian languages. Please use word2vec-compatible format (.text)."
      ]
    },
    {
      "cell_type": "code",
      "metadata": {
        "colab": {
          "base_uri": "https://localhost:8080/"
        },
        "id": "A9KB50AY0qrh",
        "outputId": "99e5ac95-f142-4b65-d0b8-25dc02a247b6"
      },
      "source": [
        "! wget https://dl.fbaipublicfiles.com/fasttext/vectors-crawl/cc.uk.300.vec.gz -nc"
      ],
      "execution_count": 2,
      "outputs": [
        {
          "output_type": "stream",
          "text": [
            "--2021-04-03 09:06:15--  https://dl.fbaipublicfiles.com/fasttext/vectors-crawl/cc.uk.300.vec.gz\n",
            "Resolving dl.fbaipublicfiles.com (dl.fbaipublicfiles.com)... 172.67.9.4, 104.22.74.142, 104.22.75.142, ...\n",
            "Connecting to dl.fbaipublicfiles.com (dl.fbaipublicfiles.com)|172.67.9.4|:443... connected.\n",
            "HTTP request sent, awaiting response... 200 OK\n",
            "Length: 1257595219 (1.2G) [binary/octet-stream]\n",
            "Saving to: ‘cc.uk.300.vec.gz’\n",
            "\n",
            "cc.uk.300.vec.gz    100%[===================>]   1.17G  33.7MB/s    in 36s     \n",
            "\n",
            "2021-04-03 09:06:51 (33.3 MB/s) - ‘cc.uk.300.vec.gz’ saved [1257595219/1257595219]\n",
            "\n"
          ],
          "name": "stdout"
        }
      ]
    },
    {
      "cell_type": "code",
      "metadata": {
        "colab": {
          "base_uri": "https://localhost:8080/"
        },
        "id": "SffKOcITvPc6",
        "outputId": "58209e9e-0a42-4454-f3fd-069e0ca852cc"
      },
      "source": [
        "! wget https://dl.fbaipublicfiles.com/fasttext/vectors-crawl/cc.ru.300.vec.gz -nc"
      ],
      "execution_count": 3,
      "outputs": [
        {
          "output_type": "stream",
          "text": [
            "--2021-04-03 09:06:51--  https://dl.fbaipublicfiles.com/fasttext/vectors-crawl/cc.ru.300.vec.gz\n",
            "Resolving dl.fbaipublicfiles.com (dl.fbaipublicfiles.com)... 104.22.75.142, 172.67.9.4, 104.22.74.142, ...\n",
            "Connecting to dl.fbaipublicfiles.com (dl.fbaipublicfiles.com)|104.22.75.142|:443... connected.\n",
            "HTTP request sent, awaiting response... 200 OK\n",
            "Length: 1306357571 (1.2G) [binary/octet-stream]\n",
            "Saving to: ‘cc.ru.300.vec.gz’\n",
            "\n",
            "cc.ru.300.vec.gz    100%[===================>]   1.22G  30.6MB/s    in 41s     \n",
            "\n",
            "2021-04-03 09:07:33 (30.3 MB/s) - ‘cc.ru.300.vec.gz’ saved [1306357571/1306357571]\n",
            "\n"
          ],
          "name": "stdout"
        }
      ]
    },
    {
      "cell_type": "code",
      "metadata": {
        "id": "1S5Bko3v96Uq",
        "colab": {
          "base_uri": "https://localhost:8080/"
        },
        "outputId": "991324a4-6bcc-47e2-c4a9-3f71a9894a62"
      },
      "source": [
        "%%time\n",
        "uk_emb = KeyedVectors.load_word2vec_format(\"cc.uk.300.vec.gz\")\n",
        "ru_emb = KeyedVectors.load_word2vec_format(\"cc.ru.300.vec.gz\")"
      ],
      "execution_count": 4,
      "outputs": [
        {
          "output_type": "stream",
          "text": [
            "CPU times: user 21min 2s, sys: 14.6 s, total: 21min 16s\n",
            "Wall time: 21min 16s\n"
          ],
          "name": "stdout"
        }
      ]
    },
    {
      "cell_type": "code",
      "metadata": {
        "id": "nTkXfT0W7ufk",
        "colab": {
          "base_uri": "https://localhost:8080/"
        },
        "outputId": "f4f7ad08-95c5-48f3-9a6f-f9805ac052a3"
      },
      "source": [
        "ru_emb.most_similar([ru_emb[\"август\"]], topn=10)"
      ],
      "execution_count": 5,
      "outputs": [
        {
          "output_type": "execute_result",
          "data": {
            "text/plain": [
              "[('август', 1.0),\n",
              " ('июль', 0.9383153915405273),\n",
              " ('сентябрь', 0.9240028858184814),\n",
              " ('июнь', 0.9222575426101685),\n",
              " ('октябрь', 0.9095538854598999),\n",
              " ('ноябрь', 0.8930036425590515),\n",
              " ('апрель', 0.8729087114334106),\n",
              " ('декабрь', 0.8652557730674744),\n",
              " ('март', 0.8545796275138855),\n",
              " ('февраль', 0.8401416540145874)]"
            ]
          },
          "metadata": {
            "tags": []
          },
          "execution_count": 5
        }
      ]
    },
    {
      "cell_type": "code",
      "metadata": {
        "id": "vdBA8lcg7ufs",
        "colab": {
          "base_uri": "https://localhost:8080/"
        },
        "outputId": "edd7f43f-b784-4903-8e67-d038d74be207"
      },
      "source": [
        "uk_emb.most_similar([uk_emb[\"серпень\"]])"
      ],
      "execution_count": 6,
      "outputs": [
        {
          "output_type": "execute_result",
          "data": {
            "text/plain": [
              "[('серпень', 0.9999999403953552),\n",
              " ('липень', 0.9096440076828003),\n",
              " ('вересень', 0.901697039604187),\n",
              " ('червень', 0.8992519378662109),\n",
              " ('жовтень', 0.8810408711433411),\n",
              " ('листопад', 0.8787633776664734),\n",
              " ('квітень', 0.8592804670333862),\n",
              " ('грудень', 0.8586863279342651),\n",
              " ('травень', 0.8408110737800598),\n",
              " ('лютий', 0.8256431818008423)]"
            ]
          },
          "metadata": {
            "tags": []
          },
          "execution_count": 6
        }
      ]
    },
    {
      "cell_type": "markdown",
      "metadata": {
        "id": "pNdYAR1q7uf6"
      },
      "source": [
        "Load small dictionaries for correspoinding words pairs as trainset and testset."
      ]
    },
    {
      "cell_type": "code",
      "metadata": {
        "id": "35d_DAK67uf8"
      },
      "source": [
        "def load_word_pairs(filename):\n",
        "    uk_ru_pairs = []\n",
        "    uk_vectors = []\n",
        "    ru_vectors = []\n",
        "    with open(filename, \"r\") as inpf:\n",
        "        for line in inpf:\n",
        "            uk, ru = line.rstrip().split(\"\\t\")\n",
        "            if uk not in uk_emb or ru not in ru_emb:\n",
        "                continue\n",
        "            uk_ru_pairs.append((uk, ru))\n",
        "            uk_vectors.append(uk_emb[uk])\n",
        "            ru_vectors.append(ru_emb[ru])\n",
        "    return uk_ru_pairs, np.array(uk_vectors), np.array(ru_vectors)"
      ],
      "execution_count": 7,
      "outputs": []
    },
    {
      "cell_type": "code",
      "metadata": {
        "id": "wkNL602WHJyO",
        "colab": {
          "base_uri": "https://localhost:8080/"
        },
        "outputId": "c2780daa-3368-4d7a-e796-76041fd97810"
      },
      "source": [
        "!wget -O ukr_rus.train.txt http://tiny.cc/jfgecz"
      ],
      "execution_count": 8,
      "outputs": [
        {
          "output_type": "stream",
          "text": [
            "--2021-04-03 09:28:57--  http://tiny.cc/jfgecz\n",
            "Resolving tiny.cc (tiny.cc)... 157.245.113.153\n",
            "Connecting to tiny.cc (tiny.cc)|157.245.113.153|:80... connected.\n",
            "HTTP request sent, awaiting response... 301 Moved Permanently\n",
            "Location: https://tiny.cc/jfgecz [following]\n",
            "--2021-04-03 09:28:57--  https://tiny.cc/jfgecz\n",
            "Connecting to tiny.cc (tiny.cc)|157.245.113.153|:443... connected.\n",
            "HTTP request sent, awaiting response... 303 See Other\n",
            "Location: https://raw.githubusercontent.com/yandexdataschool/nlp_course/master/week01_embeddings/ukr_rus.train.txt [following]\n",
            "--2021-04-03 09:28:57--  https://raw.githubusercontent.com/yandexdataschool/nlp_course/master/week01_embeddings/ukr_rus.train.txt\n",
            "Resolving raw.githubusercontent.com (raw.githubusercontent.com)... 185.199.108.133, 185.199.109.133, 185.199.110.133, ...\n",
            "Connecting to raw.githubusercontent.com (raw.githubusercontent.com)|185.199.108.133|:443... connected.\n",
            "HTTP request sent, awaiting response... 200 OK\n",
            "Length: 59351 (58K) [text/plain]\n",
            "Saving to: ‘ukr_rus.train.txt’\n",
            "\n",
            "ukr_rus.train.txt   100%[===================>]  57.96K  --.-KB/s    in 0.01s   \n",
            "\n",
            "2021-04-03 09:28:57 (5.63 MB/s) - ‘ukr_rus.train.txt’ saved [59351/59351]\n",
            "\n"
          ],
          "name": "stdout"
        }
      ]
    },
    {
      "cell_type": "code",
      "metadata": {
        "id": "uoclU6JcHCcn",
        "colab": {
          "base_uri": "https://localhost:8080/"
        },
        "outputId": "6d105452-5418-491d-bbc9-13e618944eb6"
      },
      "source": [
        "!wget -O ukr_rus.test.txt http://tiny.cc/6zoeez"
      ],
      "execution_count": 9,
      "outputs": [
        {
          "output_type": "stream",
          "text": [
            "--2021-04-03 09:28:57--  http://tiny.cc/6zoeez\n",
            "Resolving tiny.cc (tiny.cc)... 157.245.113.153\n",
            "Connecting to tiny.cc (tiny.cc)|157.245.113.153|:80... connected.\n",
            "HTTP request sent, awaiting response... 301 Moved Permanently\n",
            "Location: https://tiny.cc/6zoeez [following]\n",
            "--2021-04-03 09:28:57--  https://tiny.cc/6zoeez\n",
            "Connecting to tiny.cc (tiny.cc)|157.245.113.153|:443... connected.\n",
            "HTTP request sent, awaiting response... 303 See Other\n",
            "Location: https://raw.githubusercontent.com/yandexdataschool/nlp_course/master/week01_embeddings/ukr_rus.test.txt [following]\n",
            "--2021-04-03 09:28:57--  https://raw.githubusercontent.com/yandexdataschool/nlp_course/master/week01_embeddings/ukr_rus.test.txt\n",
            "Resolving raw.githubusercontent.com (raw.githubusercontent.com)... 185.199.108.133, 185.199.109.133, 185.199.110.133, ...\n",
            "Connecting to raw.githubusercontent.com (raw.githubusercontent.com)|185.199.108.133|:443... connected.\n",
            "HTTP request sent, awaiting response... 200 OK\n",
            "Length: 12188 (12K) [text/plain]\n",
            "Saving to: ‘ukr_rus.test.txt’\n",
            "\n",
            "ukr_rus.test.txt    100%[===================>]  11.90K  --.-KB/s    in 0s      \n",
            "\n",
            "2021-04-03 09:28:58 (98.9 MB/s) - ‘ukr_rus.test.txt’ saved [12188/12188]\n",
            "\n"
          ],
          "name": "stdout"
        }
      ]
    },
    {
      "cell_type": "code",
      "metadata": {
        "id": "05BqsdSK7ugD"
      },
      "source": [
        "uk_ru_train, X_train, Y_train = load_word_pairs(\"ukr_rus.train.txt\")"
      ],
      "execution_count": 10,
      "outputs": []
    },
    {
      "cell_type": "code",
      "metadata": {
        "id": "zQOZw51r7ugL"
      },
      "source": [
        "uk_ru_test, X_test, Y_test = load_word_pairs(\"ukr_rus.test.txt\")"
      ],
      "execution_count": 11,
      "outputs": []
    },
    {
      "cell_type": "markdown",
      "metadata": {
        "id": "-ZBBNvpz7ugQ"
      },
      "source": [
        "## Embedding space mapping (0.3 pts)"
      ]
    },
    {
      "cell_type": "markdown",
      "metadata": {
        "id": "x_Dhk5gL7ugS"
      },
      "source": [
        "Let $x_i \\in \\mathrm{R}^d$ be the distributed representation of word $i$ in the source language, and $y_i \\in \\mathrm{R}^d$ is the vector representation of its translation. Our purpose is to learn such linear transform $W$ that minimizes euclidian distance between $Wx_i$ and $y_i$ for some subset of word embeddings. Thus we can formulate so-called Procrustes problem:\n",
        "\n",
        "$$W^*= \\arg\\min_W \\sum_{i=1}^n||Wx_i - y_i||_2$$\n",
        "or\n",
        "$$W^*= \\arg\\min_W ||WX - Y||_F$$\n",
        "\n",
        "where $||*||_F$ - Frobenius norm."
      ]
    },
    {
      "cell_type": "markdown",
      "metadata": {
        "id": "acOjDdtL7ugY"
      },
      "source": [
        "$W^*= \\arg\\min_W \\sum_{i=1}^n||Wx_i - y_i||_2$ looks like simple multiple linear regression (without intercept fit). So let's code."
      ]
    },
    {
      "cell_type": "code",
      "metadata": {
        "id": "Lb-KN1be7uga",
        "colab": {
          "base_uri": "https://localhost:8080/"
        },
        "outputId": "34b70278-70c1-4a70-ce95-d1d542b20832"
      },
      "source": [
        "from sklearn.linear_model import LinearRegression\n",
        "\n",
        "# YOUR CODE HERE\n",
        "mapping = LinearRegression(fit_intercept=False)\n",
        "mapping.fit(X_train, Y_train)"
      ],
      "execution_count": 12,
      "outputs": [
        {
          "output_type": "execute_result",
          "data": {
            "text/plain": [
              "LinearRegression(copy_X=True, fit_intercept=False, n_jobs=None, normalize=False)"
            ]
          },
          "metadata": {
            "tags": []
          },
          "execution_count": 12
        }
      ]
    },
    {
      "cell_type": "markdown",
      "metadata": {
        "id": "X7tqJwoY7ugf"
      },
      "source": [
        "Let's take a look at neigbours of the vector of word _\"серпень\"_ (_\"август\"_ in Russian) after linear transform."
      ]
    },
    {
      "cell_type": "code",
      "metadata": {
        "id": "31SrFSbn7ugi",
        "colab": {
          "base_uri": "https://localhost:8080/"
        },
        "outputId": "89ac397d-fe8b-4a26-9447-90e7e31ccd74"
      },
      "source": [
        "august = mapping.predict(uk_emb[\"серпень\"].reshape(1, -1))\n",
        "ru_emb.most_similar(august)"
      ],
      "execution_count": 13,
      "outputs": [
        {
          "output_type": "execute_result",
          "data": {
            "text/plain": [
              "[('апрель', 0.8531432747840881),\n",
              " ('июнь', 0.8402522802352905),\n",
              " ('март', 0.8385884165763855),\n",
              " ('сентябрь', 0.8331484794616699),\n",
              " ('февраль', 0.8311208486557007),\n",
              " ('октябрь', 0.8278019428253174),\n",
              " ('ноябрь', 0.8243728280067444),\n",
              " ('июль', 0.8229618072509766),\n",
              " ('август', 0.8112280368804932),\n",
              " ('январь', 0.8022986650466919)]"
            ]
          },
          "metadata": {
            "tags": []
          },
          "execution_count": 13
        }
      ]
    },
    {
      "cell_type": "markdown",
      "metadata": {
        "id": "okSkjk597ugo"
      },
      "source": [
        "We can see that neighbourhood of this embedding cosists of different months, but right variant is on the ninth place."
      ]
    },
    {
      "cell_type": "markdown",
      "metadata": {
        "id": "o2uY6Y9B7ugt"
      },
      "source": [
        "As quality measure we will use precision top-1, top-5 and top-10 (for each transformed Ukrainian embedding we count how many right target pairs are found in top N nearest neighbours in Russian embedding space)."
      ]
    },
    {
      "cell_type": "code",
      "metadata": {
        "id": "zptuho8LAfIE"
      },
      "source": [
        "def precision(pairs, mapped_vectors, topn=1):\n",
        "    \"\"\"\n",
        "    :args:\n",
        "        pairs = list of right word pairs [(uk_word_0, ru_word_0), ...]\n",
        "        mapped_vectors = list of embeddings after mapping from source embedding space to destination embedding space\n",
        "        topn = the number of nearest neighbours in destination embedding space to choose from\n",
        "    :returns:\n",
        "        precision_val, float number, total number of words for those we can find right translation at top K.\n",
        "    \"\"\"\n",
        "    assert len(pairs) == len(mapped_vectors)\n",
        "    num_matches = 0\n",
        "    for i, (_, ru) in enumerate(pairs):\n",
        "        for word, _ in ru_emb.most_similar(positive=[mapped_vectors[i],], topn=topn):\n",
        "            if word == ru:\n",
        "                num_matches += 1\n",
        "    precision_val = num_matches / len(pairs)\n",
        "    return precision_val"
      ],
      "execution_count": 14,
      "outputs": []
    },
    {
      "cell_type": "code",
      "metadata": {
        "id": "duhj9hpv7ugy"
      },
      "source": [
        "assert precision([(\"серпень\", \"август\")], august, topn=5) == 0.0\n",
        "assert precision([(\"серпень\", \"август\")], august, topn=9) == 1.0\n",
        "assert precision([(\"серпень\", \"август\")], august, topn=10) == 1.0"
      ],
      "execution_count": 15,
      "outputs": []
    },
    {
      "cell_type": "code",
      "metadata": {
        "id": "0-iyd5gP7ug5"
      },
      "source": [
        "assert precision(uk_ru_test, X_test) == 0.0\n",
        "assert precision(uk_ru_test, Y_test) == 1.0"
      ],
      "execution_count": 16,
      "outputs": []
    },
    {
      "cell_type": "code",
      "metadata": {
        "id": "U-ssEJ3x7uhA"
      },
      "source": [
        "precision_top1 = precision(uk_ru_test, mapping.predict(X_test), 1)\n",
        "precision_top5 = precision(uk_ru_test, mapping.predict(X_test), 5)"
      ],
      "execution_count": 17,
      "outputs": []
    },
    {
      "cell_type": "code",
      "metadata": {
        "id": "7K-hy7a6Ksn2",
        "colab": {
          "base_uri": "https://localhost:8080/"
        },
        "outputId": "e448234d-2c23-4fbd-a4b8-2c21b62daa43"
      },
      "source": [
        "print(precision_top1)\n",
        "print(precision_top5)"
      ],
      "execution_count": 18,
      "outputs": [
        {
          "output_type": "stream",
          "text": [
            "0.628498727735369\n",
            "0.7913486005089059\n"
          ],
          "name": "stdout"
        }
      ]
    },
    {
      "cell_type": "markdown",
      "metadata": {
        "id": "hf6Ou8bx7uhH"
      },
      "source": [
        "## Making it better (orthogonal Procrustean problem) (0.3 pts)"
      ]
    },
    {
      "cell_type": "markdown",
      "metadata": {
        "id": "4oLs-drN7uhK"
      },
      "source": [
        "It can be shown (see original paper) that a self-consistent linear mapping between semantic spaces should be orthogonal. \n",
        "We can restrict transform $W$ to be orthogonal. Then we will solve next problem:\n",
        "\n",
        "$$W^*= \\arg\\min_W ||WX - Y||_F \\text{, where: } W^TW = I$$\n",
        "\n",
        "$$I \\text{- identity matrix}$$\n",
        "\n",
        "Instead of making yet another regression problem we can find optimal orthogonal transformation using singular value decomposition. It turns out that optimal transformation $W^*$ can be expressed via SVD components:\n",
        "$$X^TY=U\\Sigma V^T\\text{, singular value decompostion}$$\n",
        "$$W^*=UV^T$$"
      ]
    },
    {
      "cell_type": "code",
      "metadata": {
        "id": "DdFQ7qti7uhL"
      },
      "source": [
        "import numpy as np\n",
        "def learn_transform(X_train, Y_train):\n",
        "    \"\"\" \n",
        "    :returns: W* : float matrix[emb_dim x emb_dim] as defined in formulae above\n",
        "    \"\"\"\n",
        "    # YOUR CODE GOES HERE\n",
        "    u, s, vh = np.linalg.svd(X_train.T @ Y_train)\n",
        "    mapping = u @ vh\n",
        "\n",
        "    return mapping\n",
        "\n",
        "W = learn_transform(X_train, Y_train)"
      ],
      "execution_count": 19,
      "outputs": []
    },
    {
      "cell_type": "code",
      "metadata": {
        "id": "OVOFYYa37uhX",
        "colab": {
          "base_uri": "https://localhost:8080/"
        },
        "outputId": "3d5a9121-8c5c-4c95-ca2e-ac947f14fa12"
      },
      "source": [
        "ru_emb.most_similar([np.matmul(uk_emb[\"серпень\"], W)])"
      ],
      "execution_count": 20,
      "outputs": [
        {
          "output_type": "execute_result",
          "data": {
            "text/plain": [
              "[('апрель', 0.8245131969451904),\n",
              " ('июнь', 0.805662989616394),\n",
              " ('сентябрь', 0.8055761456489563),\n",
              " ('март', 0.8032935261726379),\n",
              " ('октябрь', 0.7987102270126343),\n",
              " ('июль', 0.7946797013282776),\n",
              " ('ноябрь', 0.7939636707305908),\n",
              " ('август', 0.7938188910484314),\n",
              " ('февраль', 0.7923861145973206),\n",
              " ('декабрь', 0.7715375423431396)]"
            ]
          },
          "metadata": {
            "tags": []
          },
          "execution_count": 20
        }
      ]
    },
    {
      "cell_type": "code",
      "metadata": {
        "id": "r297sYP37uhb",
        "colab": {
          "base_uri": "https://localhost:8080/"
        },
        "outputId": "120da73a-dc55-4acb-e53a-e7dc4f021d1c"
      },
      "source": [
        "print(precision(uk_ru_test, np.matmul(X_test, W)))\n",
        "print(precision(uk_ru_test, np.matmul(X_test, W), 5))"
      ],
      "execution_count": 21,
      "outputs": [
        {
          "output_type": "stream",
          "text": [
            "0.6437659033078881\n",
            "0.7989821882951654\n"
          ],
          "name": "stdout"
        }
      ]
    },
    {
      "cell_type": "markdown",
      "metadata": {
        "id": "hvUZ72U5AfJg"
      },
      "source": [
        "## Unsupervised embedding-based MT (0.4 pts)"
      ]
    },
    {
      "cell_type": "markdown",
      "metadata": {
        "id": "LLyuVfHBLrJn"
      },
      "source": [
        "Now, let's build our word embeddings-based translator!"
      ]
    },
    {
      "cell_type": "markdown",
      "metadata": {
        "id": "tPAURW1CMuP7"
      },
      "source": [
        "Firstly, download OPUS Tatoeba corpus."
      ]
    },
    {
      "cell_type": "code",
      "metadata": {
        "id": "F80kUKzQMsDu",
        "colab": {
          "base_uri": "https://localhost:8080/"
        },
        "outputId": "5c8b02f6-7fd3-43bf-d678-1ac6090524d0"
      },
      "source": [
        "!wget https://object.pouta.csc.fi/OPUS-Tatoeba/v20190709/mono/uk.txt.gz"
      ],
      "execution_count": 22,
      "outputs": [
        {
          "output_type": "stream",
          "text": [
            "--2021-04-03 09:34:24--  https://object.pouta.csc.fi/OPUS-Tatoeba/v20190709/mono/uk.txt.gz\n",
            "Resolving object.pouta.csc.fi (object.pouta.csc.fi)... 86.50.254.18, 86.50.254.19\n",
            "Connecting to object.pouta.csc.fi (object.pouta.csc.fi)|86.50.254.18|:443... connected.\n",
            "HTTP request sent, awaiting response... 200 OK\n",
            "Length: 1819128 (1.7M) [application/gzip]\n",
            "Saving to: ‘uk.txt.gz’\n",
            "\n",
            "uk.txt.gz           100%[===================>]   1.73M  2.20MB/s    in 0.8s    \n",
            "\n",
            "2021-04-03 09:34:26 (2.20 MB/s) - ‘uk.txt.gz’ saved [1819128/1819128]\n",
            "\n"
          ],
          "name": "stdout"
        }
      ]
    },
    {
      "cell_type": "code",
      "metadata": {
        "id": "0CGFZoxCUVf1"
      },
      "source": [
        "!gzip -d ./uk.txt.gz"
      ],
      "execution_count": 23,
      "outputs": []
    },
    {
      "cell_type": "code",
      "metadata": {
        "id": "2MV3VvoVUX5U"
      },
      "source": [
        "with open('./uk.txt', 'r') as f:\n",
        "    uk_corpus = f.readlines()"
      ],
      "execution_count": 24,
      "outputs": []
    },
    {
      "cell_type": "code",
      "metadata": {
        "id": "tU7nPVf0UhbI"
      },
      "source": [
        "# To save your time and CPU, feel free to use first 1000 sentences of the corpus\n",
        "uk_corpus = uk_corpus[:1000]"
      ],
      "execution_count": 25,
      "outputs": []
    },
    {
      "cell_type": "code",
      "metadata": {
        "id": "FLN8dBOXAfJ1"
      },
      "source": [
        "# Any necessary preprocessing if needed\n",
        "uk_corpus = [sent.replace('\\n', '') for sent in uk_corpus]"
      ],
      "execution_count": 26,
      "outputs": []
    },
    {
      "cell_type": "code",
      "metadata": {
        "id": "FGksC7l_NMi9"
      },
      "source": [
        "def translate(sentence):\n",
        "    \"\"\"\n",
        "    :args:\n",
        "        sentence - sentence in Ukrainian (str)\n",
        "    :returns:\n",
        "        translation - sentence in Russian (str)\n",
        "\n",
        "    * find ukrainian embedding for each word in sentence\n",
        "    * transform ukrainian embedding vector\n",
        "    * find nearest russian word and replace\n",
        "    \"\"\"\n",
        "    translated = []\n",
        "    for word in sentence.split():\n",
        "        if word in uk_emb:\n",
        "            w, _ = ru_emb.most_similar([np.matmul(uk_emb[word], W)], topn = 1)[0]\n",
        "            translated.append(w)\n",
        "        else:\n",
        "            translated.append(word)\n",
        "    return \" \".join(translated)"
      ],
      "execution_count": 27,
      "outputs": []
    },
    {
      "cell_type": "code",
      "metadata": {
        "id": "4hbbMy-tNxlf"
      },
      "source": [
        "assert translate(\".\") == \".\"\n",
        "assert translate(\"1 , 3\") == \"1 , 3\"\n",
        "assert translate(\"кіт зловив мишу\") == \"кот поймал мышку\""
      ],
      "execution_count": 28,
      "outputs": []
    },
    {
      "cell_type": "markdown",
      "metadata": {
        "id": "ia6I2ce7O_HI"
      },
      "source": [
        "Now you can play with your model and try to get as accurate translations as possible. **Note**: one big issue is out-of-vocabulary words. Try to think of various ways of handling it (you can start with translating each of them to a special **UNK** token and then move to more sophisticated approaches). Good luck!"
      ]
    },
    {
      "cell_type": "markdown",
      "metadata": {
        "id": "BBzCBIbAM9W9"
      },
      "source": [
        "### First method: just ignore unkown words"
      ]
    },
    {
      "cell_type": "code",
      "metadata": {
        "colab": {
          "base_uri": "https://localhost:8080/"
        },
        "id": "6WaTW8JrvmIb",
        "outputId": "246c15e5-5e05-43be-d8fa-2e6e4c2218e3"
      },
      "source": [
        "for sent in uk_corpus[::10]:\n",
        "    print(translate(sent))"
      ],
      "execution_count": 29,
      "outputs": [
        {
          "output_type": "stream",
          "text": [
            "Я уже закончу коледж, когда мы прибежишь со океании\n",
            "Город бомбили враждебные літаки.\n",
            "Можливо, мной антисоціальний, конечно это не означає, что мной не общаюсь со людьми\n",
            "Впрочем утра выпала роса.\n",
            "Беда не приходит одна\n",
            "Посмотри по тот жеребей\n",
            "Я заказал два гамбургера.\n",
            "Я не хотел никого образити.\n",
            "Гора покрыта снігом.\n",
            "по фотографии во девушки корона не со золота, а со цветы\n",
            "Во меня То мрія.\n",
            "Я приехал во Японию со Китая\n",
            "по север находится Шотландія; по юге — Англія; по востоке — Уельс; и ещe дальше по востоке — северная Ірландія.\n",
            "Его родная страна — Німеччина.\n",
            "Берн — столица Швейцарії.\n",
            "Он ждал по него к десятой часа\n",
            "Ты можешь взять ту книгу даром.\n",
            "Такой роман сочинил известный американский писатель\n",
            "Забронюйте, будте ласкаві, комнату возле международного аэропорта во Торонто.\n",
            "Он знає, что ты его кохаєш?\n",
            "Я знаю, что ты багатий.\n",
            "Ті, кто всё забувають, щасливі.\n",
            "Во этой реке опасно плавати.\n",
            "Прийшов, побачив, переміг.\n",
            "Я хожу к школы пішки.\n",
            "Не моя справа!\n",
            "Не забудь квиток.\n",
            "Кто він?\n",
            "Вы будете чай ли каву?\n",
            "Он не пойдет по пікнік, как и мной\n",
            "Когда Вы народилися?\n",
            "Это моя любимая песня\n",
            "мы почти сім’я.\n",
            "Какой красивый сегодня місяць!\n",
            "Я против каких-либо війн.\n",
            "поверхность воздушной шары — неевклідовий простір, потому для неё не выполняются правила симметрической геометрії.\n",
            "Кажуть, что американцы считают количество грошей, какую зарабатывает людина, мерилом его уміння.\n",
            "Можно мной примірю это плаття?\n",
            "Если будет красивая погода, мы доберёмся туда завтра\n",
            "Это был злой заєць.\n",
            "Один, два, три, чотири, п'ять, шість, сім, вісім, дев'ять, десять.\n",
            "Кто во любви не знається, тот горя не знает.И\n",
            "Его иметь волнуется за него\n",
            "Я уважаю тих, кто старается со всех сил.И\n",
            "необычайная дружба переросла во глубокое чувство.\n",
            "Рейчел п’є много молока каждый день\n",
            "Он злодій.\n",
            "Шумового загрязнение можно было бы позбігнути только если бы люди были более чувствительны к окружающей среды\n",
            "чай со лимоном, будте ласкаві.\n",
            "Не путать желание со коханням.\n",
            "Я бы со удовольствием сочинил сотни сложноподчинённые во Tatoeb’і, конечно во меня То дела\n",
            "Дайте мне чашечку кави.\n",
            "ведь же ты никогда мне о это не розповідала!\n",
            "Во тебя будут проблеми, если твои родители довідаються.\n",
            "Запах роз наполнил кімнату.\n",
            "Как во тебя справи?\n",
            "Это мои штани.\n",
            "Ні, спасибо\n",
            "Я не розумію, почему Германия победила по Євробаченні.\n",
            "Добрый вечер\n",
            "Со юбілеєм Алексея Палашка поприветствовал президент Белоруссии Александр Лукашенко.\n",
            "Млечный путь — широкий пояс со далеких зірок, каждая звезда — сонце, такое как наше.\n",
            "удивительно видеть рок-звёзд со краваткою!\n",
            "всё печенье во форме зірок.\n",
            "ЧТо мне одеть — штаны ли спідницю?\n",
            "Краусс утверждал — известный московский скульптор.\n",
            "Ой был злой кролик.\n",
            "Можешь взять будь-який, что тебе к сподоби.\n",
            "Конечно мной піду.\n",
            "шелковичные прядут кокони.\n",
            "ЧТо бы ты зробила, если бы во тебя було, скажім, десять тысяч доларів?\n",
            "Он думає, что он хтось, а действительно он никто\n",
            "она очень гордится своею коллекцией марок.\n",
            "Он очень простий...\n",
            "Какая ты добра!\n",
            "Как мной за тобой скучив!\n",
            "Это все, что мной знаю\n",
            "Ты ведёшь щоденник?\n",
            "Тебе вирішувати.\n",
            "Это пошта, а то — экспортно-импортный\n",
            "Это все, что мной хочу сделать.Но\n",
            "Я впервые смотрю такой страшный фильм\n",
            "Этa песня напоминает мне о домИ\n",
            "Хироси тут?\n",
            "Меня зовут Джек.\n",
            "Как женщина живе, так она и помре.\n",
            "Я здесь уже две часа\n",
            "Мне надо извиниться перед Ен.\n",
            "Сегодня мной видел шпака.\n",
            "«Скільки стоить та носовая хусточка?» — «Дев'яносто п'ять центів».\n",
            "солдаты ведмеді, как правило, очень небезпечні.\n",
            "Он быстро втомлюється.\n",
            "остальные готові.\n",
            "Он скучает по своей сім'ї.\n",
            "«Дякую», — «На здоров'я».\n",
            "Я ещe не знаю своего адреси, мной определенный момент буду жить во подруги.\n",
            "Амазонка— вторая по длине река во мире после Ніла.\n",
            "А если увидишь Тома, передай ему от меня вітання.\n",
            "закрой за собой дверь\n",
            "Держи при себе словар\n"
          ],
          "name": "stdout"
        }
      ]
    },
    {
      "cell_type": "markdown",
      "metadata": {
        "id": "H1jgMlBUboC0"
      },
      "source": [
        "### Second method: let's try getting nearest neighbors of unknown words with the fasttext model"
      ]
    },
    {
      "cell_type": "code",
      "metadata": {
        "colab": {
          "base_uri": "https://localhost:8080/"
        },
        "id": "JZcrj4NOblf4",
        "outputId": "44dc4215-abe3-4926-b257-164d918966cb"
      },
      "source": [
        "!pip install fasttext"
      ],
      "execution_count": 29,
      "outputs": [
        {
          "output_type": "stream",
          "text": [
            "Collecting fasttext\n",
            "\u001b[?25l  Downloading https://files.pythonhosted.org/packages/f8/85/e2b368ab6d3528827b147fdb814f8189acc981a4bc2f99ab894650e05c40/fasttext-0.9.2.tar.gz (68kB)\n",
            "\r\u001b[K     |████▊                           | 10kB 10.3MB/s eta 0:00:01\r\u001b[K     |█████████▌                      | 20kB 14.3MB/s eta 0:00:01\r\u001b[K     |██████████████▎                 | 30kB 18.6MB/s eta 0:00:01\r\u001b[K     |███████████████████             | 40kB 11.4MB/s eta 0:00:01\r\u001b[K     |███████████████████████▉        | 51kB 5.1MB/s eta 0:00:01\r\u001b[K     |████████████████████████████▋   | 61kB 5.6MB/s eta 0:00:01\r\u001b[K     |████████████████████████████████| 71kB 3.1MB/s \n",
            "\u001b[?25hRequirement already satisfied: pybind11>=2.2 in /usr/local/lib/python3.7/dist-packages (from fasttext) (2.6.2)\n",
            "Requirement already satisfied: setuptools>=0.7.0 in /usr/local/lib/python3.7/dist-packages (from fasttext) (54.2.0)\n",
            "Requirement already satisfied: numpy in /usr/local/lib/python3.7/dist-packages (from fasttext) (1.19.5)\n",
            "Building wheels for collected packages: fasttext\n",
            "  Building wheel for fasttext (setup.py) ... \u001b[?25l\u001b[?25hdone\n",
            "  Created wheel for fasttext: filename=fasttext-0.9.2-cp37-cp37m-linux_x86_64.whl size=3097070 sha256=f4ec939ef3ecc2a7dc240b3e51c1469ef046b6c24e2bbc426dded2327ef6d888\n",
            "  Stored in directory: /root/.cache/pip/wheels/98/ba/7f/b154944a1cf5a8cee91c154b75231136cc3a3321ab0e30f592\n",
            "Successfully built fasttext\n",
            "Installing collected packages: fasttext\n",
            "Successfully installed fasttext-0.9.2\n"
          ],
          "name": "stdout"
        }
      ]
    },
    {
      "cell_type": "code",
      "metadata": {
        "id": "xUOHaVddqvi5",
        "colab": {
          "base_uri": "https://localhost:8080/"
        },
        "outputId": "f55b0cca-a7d5-49fa-b4aa-03d17dd495d0"
      },
      "source": [
        "%%time\n",
        "import fasttext.util\n",
        "fasttext.util.download_model('uk', if_exists='ignore')  # Ukrainian\n",
        "uk_emb_ft = fasttext.load_model('cc.uk.300.bin')"
      ],
      "execution_count": 31,
      "outputs": [
        {
          "output_type": "stream",
          "text": [
            "Downloading https://dl.fbaipublicfiles.com/fasttext/vectors-crawl/cc.uk.300.bin.gz\n",
            "\n"
          ],
          "name": "stdout"
        },
        {
          "output_type": "stream",
          "text": [
            "Warning : `load_model` does not return WordVectorModel or SupervisedModel any more, but a `FastText` object which is very similar.\n"
          ],
          "name": "stderr"
        },
        {
          "output_type": "stream",
          "text": [
            "CPU times: user 24min 28s, sys: 5min 17s, total: 29min 46s\n",
            "Wall time: 29min 44s\n"
          ],
          "name": "stdout"
        }
      ]
    },
    {
      "cell_type": "markdown",
      "metadata": {
        "id": "rbb0tj6QjlX8"
      },
      "source": [
        "Rewrite translate function for FT embeddings"
      ]
    },
    {
      "cell_type": "code",
      "metadata": {
        "colab": {
          "base_uri": "https://localhost:8080/"
        },
        "id": "d4oKejFCpQ1T",
        "outputId": "81c12aca-025e-43aa-d35b-d67b093dddb5"
      },
      "source": [
        "uk_emb_ft.get_nearest_neighbors('привет')"
      ],
      "execution_count": 32,
      "outputs": [
        {
          "output_type": "execute_result",
          "data": {
            "text/plain": [
              "[(0.7548572421073914, 'приветом'),\n",
              " (0.7397751212120056, 'приветік'),\n",
              " (0.735414981842041, 'привык'),\n",
              " (0.7107588648796082, 'привыкла'),\n",
              " (0.7094820141792297, 'привыкли'),\n",
              " (0.7087741494178772, 'приветствую'),\n",
              " (0.704185426235199, 'придёт'),\n",
              " (0.7039313316345215, 'Привет'),\n",
              " (0.698703944683075, 'обещаю'),\n",
              " (0.6935949921607971, 'подарил')]"
            ]
          },
          "metadata": {
            "tags": []
          },
          "execution_count": 32
        }
      ]
    },
    {
      "cell_type": "code",
      "metadata": {
        "id": "_ILeyIqUkO4E"
      },
      "source": [
        "def translate_ft(sentence):\n",
        "    \"\"\"\n",
        "    :args:\n",
        "        sentence - sentence in Ukrainian (str)\n",
        "    :returns:\n",
        "        translation - sentence in Russian (str)\n",
        "    \"\"\"\n",
        "    translated = []\n",
        "    for word in sentence.split():\n",
        "        if word in uk_emb:\n",
        "            w, _ = ru_emb.most_similar([np.matmul(uk_emb[word], W)], topn = 1)[0]\n",
        "            translated.append(w)\n",
        "        else:\n",
        "            _, new_word = uk_emb_ft.get_nearest_neighbors(word)[0]\n",
        "            if len(new_word) < 100:\n",
        "                w, _ = ru_emb.most_similar([np.matmul(uk_emb[new_word], W)], topn = 1)[0]\n",
        "                translated.append(w)\n",
        "            else:\n",
        "                translated.append(word)\n",
        "    return \" \".join(translated)"
      ],
      "execution_count": 42,
      "outputs": []
    },
    {
      "cell_type": "code",
      "metadata": {
        "colab": {
          "base_uri": "https://localhost:8080/"
        },
        "id": "DGX-i-8jMvV1",
        "outputId": "f62e9804-7e8d-42ae-805f-73f6383e72d0"
      },
      "source": [
        "for sent in uk_corpus[::10]:\n",
        "    print(translate_ft(sent))"
      ],
      "execution_count": 43,
      "outputs": [
        {
          "output_type": "stream",
          "text": [
            "Я уже закончу колледж когда мы прибежишь со океании\n",
            "Город бомбили враждебные самолеты-истребители\n",
            "Отвечу мной антисоциальный конечно это не значит что мной не общаюсь со людьми\n",
            "Впрочем утра выпала роса\n",
            "Беда не приходит одна\n",
            "Посмотри по тот жеребей\n",
            "Я заказал два гамбургера\n",
            "Я не хотел никого обидеться\n",
            "Гора покрыта снег\n",
            "по фотографии во девушки корона не со золота а со цветы\n",
            "Во меня То мечтать\n",
            "Я приехал во Японию со Китая\n",
            "по север находится Ирландия по юге — СтранаВеликобритания по востоке — шотландскую и ещe дальше по востоке — северная Ирландия\n",
            "Его родная страна — Германия\n",
            "Берн — столица Швейцарии\n",
            "Он ждал по него к десятой часа\n",
            "Ты можешь взять ту книгу даром\n",
            "Такой роман сочинил известный американский писатель\n",
            "забронировать будте ласково комнату возле международного аэропорта во круглосуточноАдрес\n",
            "Он знает что ты его влюбится\n",
            "Я знаю что ты расцвечивать\n",
            "Переписи кто всё забывалось щасливі\n",
            "Во этой реке опасно плавать\n",
            "придя увидел победил\n",
            "Я хожу к школы пешком\n",
            "Не моя этика\n",
            "Не забудь билет\n",
            "Кто Minespill\n",
            "Вы будете чай ли чай\n",
            "Он не пойдет по кэмпинг как и мной\n",
            "Когда Вы народилось\n",
            "Это моя любимая песня\n",
            "мы почти Meum\n",
            "Какой красивый сегодня месяц\n",
            "Я против каких-либо войны\n",
            "поверхность воздушной шары — симметрический пространство потому для неё не выполняются правила симметрической 5-балльная\n",
            "дык что американцы считают количество деньгов какую зарабатывает женщина мерилом его умение\n",
            "Можно мной примеряет это платье\n",
            "Если будет красивая погода мы доберёмся туда завтра\n",
            "Это был злой заяц\n",
            "Странный Динклейдж Нойнер шесть п'ять, семь 3626x2409 восемь дев'ять, десять\n",
            "Кто во любви не недумал тот горя не знает.И\n",
            "Его иметь волнуется за него\n",
            "Я уважаю тих, кто старается со всех сил.И\n",
            "необычайная дружба переросла во глубокое чувство.\n",
            "Рейчел Fabrica много молока каждый день\n",
            "Он воришек\n",
            "поэтического загрязнение можно было бы избавить только если бы люди были более чувствительны к окружающей среды\n",
            "чай со лимоном будте ласково\n",
            "Не путать желание со влюбленное\n",
            "Я бы со удовольствием сочинил сотни сложноподчинённые во Gimmie конечно во меня То дела\n",
            "Дайте мне чашечку конфеты\n",
            "ведь же ты никогда мне о это не рассказывать\n",
            "Во тебя будут проблемы если твои родители узнают\n",
            "Запах роз наполнил комнатуВ\n",
            "Как во тебя дело\n",
            "Это мои штаны\n",
            "Ні, спасибо\n",
            "Я не подозреваю почему Германия победила по Евровидение\n",
            "Добрый вечер\n",
            "Со трехлетием Алексея Палашка поприветствовал президент Белоруссии Александр А.Лукашенко.\n",
            "Млечный путь — широкий пояс со далеких звёзды каждая звезда — солнце такое как нашу\n",
            "удивительно видеть рок-звёзд со галстук\n",
            "всё печенье во форме звёзды\n",
            "ЧТо мне одеть — штаны ли юбку-солнце\n",
            "Краусс утверждал — известный московский скульптор-монументалист\n",
            "Ой был злой кролик\n",
            "Можешь взять любой что тебе к понравятся\n",
            "Конечно мной притащиться\n",
            "шелковичные прядут коконы\n",
            "ЧТо бы ты сделаю если бы во тебя было замечу десять тысяч долларов\n",
            "Он подумать что он кто-нибудь а действительно он никто\n",
            "она очень гордится своею коллекцией марок\n",
            "Он очень проще\n",
            "Какая ты певучего\n",
            "Как мной за тобой соскучился\n",
            "Это удалять что мной знаю\n",
            "Ты ведёшь платкиМУЖЧИНАМПортфели\n",
            "Тебе решать\n",
            "Это почтах а то — экспортно-импортный\n",
            "Это удалять что мной хочу сделать.Но\n",
            "Я впервые смотрю такой страшный фильм\n",
            "Этa песня напоминает мне о домИ\n",
            "Хироси Кондратьев\n",
            "Меня зовут Эдди\n",
            "Как женщина живет так она и умру\n",
            "Я здесь уже две часа\n",
            "Мне надо извиниться перед Mette\n",
            "Сегодня мной видел скворца\n",
            "Сколько стоить та носовая косыночка — Просто --Vprisivko центов\n",
            "солдаты медведы как правилы очень опасное\n",
            "Он быстро переутомляется\n",
            "остальные готову\n",
            "Он скучает по своей сім'ї.\n",
            "30спасибо — Ирха здоровье\n",
            "Я ещe не знаю своего настройки. мной определенный момент буду жить во подруги\n",
            "Амазонка вторая по длине река во мире после Дина\n",
            "А если увидишь Эрнесто передай ему от меня поздравленье\n",
            "закрой за собой дверь\n",
            "Держи при себе словар\n"
          ],
          "name": "stdout"
        }
      ]
    },
    {
      "cell_type": "markdown",
      "metadata": {
        "id": "emqv3_rBNV2D"
      },
      "source": [
        "## Combined approach (bin + vec models) produces more understandable  results!\n",
        "Although, some words still lack any translation"
      ]
    },
    {
      "cell_type": "code",
      "metadata": {
        "id": "2QqjAv_kRRwO"
      },
      "source": [
        ""
      ],
      "execution_count": null,
      "outputs": []
    }
  ]
}