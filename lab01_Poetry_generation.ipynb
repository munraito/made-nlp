{
  "nbformat": 4,
  "nbformat_minor": 0,
  "metadata": {
    "anaconda-cloud": {},
    "kernelspec": {
      "display_name": "Python 3",
      "language": "python",
      "name": "python3"
    },
    "language_info": {
      "codemirror_mode": {
        "name": "ipython",
        "version": 3
      },
      "file_extension": ".py",
      "mimetype": "text/x-python",
      "name": "python",
      "nbconvert_exporter": "python",
      "pygments_lexer": "ipython3",
      "version": "3.7.7"
    },
    "colab": {
      "name": "NLP_Lab01_Poetry_generation.ipynb",
      "provenance": [],
      "collapsed_sections": []
    },
    "accelerator": "GPU"
  },
  "cells": [
    {
      "cell_type": "markdown",
      "metadata": {
        "id": "kn6uqbCaw9Sy"
      },
      "source": [
        "## Lab 01. Poetry generation\n",
        "\n",
        "Let's try to generate some poetry using RNNs. \n",
        "\n",
        "You have several choices here: \n",
        "\n",
        "* The Shakespeare sonnets, file `sonnets.txt` available in the notebook directory.\n",
        "\n",
        "* Роман в стихах \"Евгений Онегин\" Александра Сергеевича Пушкина. В предобработанном виде доступен по [ссылке](https://github.com/attatrol/data_sources/blob/master/onegin.txt).\n",
        "\n",
        "* Some other text source, if it will be approved by the course staff.\n",
        "\n",
        "Text generation can be designed in several steps:\n",
        "    \n",
        "1. Data loading.\n",
        "2. Dictionary generation.\n",
        "3. Data preprocessing.\n",
        "4. Model (neural network) training.\n",
        "5. Text generation (model evaluation).\n"
      ]
    },
    {
      "cell_type": "code",
      "metadata": {
        "id": "BqUAznJjw9S5"
      },
      "source": [
        "import string\n",
        "import os"
      ],
      "execution_count": 1,
      "outputs": []
    },
    {
      "cell_type": "markdown",
      "metadata": {
        "id": "3kJmm2U8w9S6"
      },
      "source": [
        "### Data loading: Shakespeare"
      ]
    },
    {
      "cell_type": "markdown",
      "metadata": {
        "id": "9PoEJiHpw9S6"
      },
      "source": [
        "Shakespeare sonnets are awailable at this [link](http://www.gutenberg.org/ebooks/1041?msg=welcome_stranger). In addition, they are stored in the same directory as this notebook (`sonnetes.txt`). Simple preprocessing is already done for you in the next cell: all technical info is dropped."
      ]
    },
    {
      "cell_type": "code",
      "metadata": {
        "collapsed": true,
        "id": "RLPlzMNAw9S7"
      },
      "source": [
        "if not os.path.exists('sonnets.txt'):\n",
        "    !wget https://raw.githubusercontent.com/girafe-ai/ml-mipt/master/homeworks_basic/Lab2_DL/sonnets.txt\n",
        "\n",
        "with open('sonnets.txt', 'r') as iofile:\n",
        "    text = iofile.readlines()\n",
        "    \n",
        "TEXT_START = 45\n",
        "TEXT_END = -368\n",
        "text = text[TEXT_START : TEXT_END]\n",
        "assert len(text) == 2616"
      ],
      "execution_count": 189,
      "outputs": []
    },
    {
      "cell_type": "markdown",
      "metadata": {
        "id": "OCJnj64mw9S7"
      },
      "source": [
        "In opposite to the in-class practice, this time we want to predict complex text. Let's reduce the complexity of the task and lowercase all the symbols.\n",
        "\n",
        "Now variable `text` is a list of strings. Join all the strings into one and lowercase it."
      ]
    },
    {
      "cell_type": "code",
      "metadata": {
        "id": "_idD8tSIw9S7",
        "colab": {
          "base_uri": "https://localhost:8080/"
        },
        "outputId": "6e0673dc-5566-465f-cd91-5bc9174884fc"
      },
      "source": [
        "# Join all the strings into one and lowercase it\n",
        "# Put result into variable text.\n",
        "\n",
        "text = ''.join([t.lower() for t in text])\n",
        "assert len(text) == 100225, 'Are you sure you have concatenated all the strings?'\n",
        "assert not any([x in set(text) for x in string.ascii_uppercase]), 'Uppercase letters are present'\n",
        "print('OK!')"
      ],
      "execution_count": 190,
      "outputs": [
        {
          "output_type": "stream",
          "text": [
            "OK!\n"
          ],
          "name": "stdout"
        }
      ]
    },
    {
      "cell_type": "markdown",
      "metadata": {
        "id": "6XZ_DK0Jw9S8"
      },
      "source": [
        "#### Data loading: \"Евгений Онегин\"\n"
      ]
    },
    {
      "cell_type": "code",
      "metadata": {
        "id": "HWgQ-rOpw9S8",
        "colab": {
          "base_uri": "https://localhost:8080/"
        },
        "outputId": "e2dab7a9-70f6-4a34-c9ad-e939442ab500"
      },
      "source": [
        "!wget https://raw.githubusercontent.com/attatrol/data_sources/master/onegin.txt\n",
        "    \n",
        "with open('onegin.txt', 'r') as iofile:\n",
        "    text = iofile.readlines()\n",
        "    \n",
        "text = [x.replace('\\t\\t', '') for x in text]"
      ],
      "execution_count": 183,
      "outputs": [
        {
          "output_type": "stream",
          "text": [
            "--2021-04-19 17:32:57--  https://raw.githubusercontent.com/attatrol/data_sources/master/onegin.txt\n",
            "Resolving raw.githubusercontent.com (raw.githubusercontent.com)... 185.199.108.133, 185.199.110.133, 185.199.109.133, ...\n",
            "Connecting to raw.githubusercontent.com (raw.githubusercontent.com)|185.199.108.133|:443... connected.\n",
            "HTTP request sent, awaiting response... 200 OK\n",
            "Length: 262521 (256K) [text/plain]\n",
            "Saving to: ‘onegin.txt’\n",
            "\n",
            "onegin.txt          100%[===================>] 256.37K  --.-KB/s    in 0.04s   \n",
            "\n",
            "2021-04-19 17:32:57 (6.86 MB/s) - ‘onegin.txt’ saved [262521/262521]\n",
            "\n"
          ],
          "name": "stdout"
        }
      ]
    },
    {
      "cell_type": "markdown",
      "metadata": {
        "id": "waMvSBobw9S9"
      },
      "source": [
        "In opposite to the in-class practice, this time we want to predict complex text. Let's reduce the complexity of the task and lowercase all the symbols.\n",
        "\n",
        "Now variable `text` is a list of strings. Join all the strings into one and lowercase it."
      ]
    },
    {
      "cell_type": "code",
      "metadata": {
        "id": "hardE0avw9S-"
      },
      "source": [
        "# Join all the strings into one and lowercase it\n",
        "# Put result into variable text.\n",
        "\n",
        "out = ''.join([t.lower() for t in text])"
      ],
      "execution_count": 191,
      "outputs": []
    },
    {
      "cell_type": "markdown",
      "metadata": {
        "id": "fmppwgGGw9S-"
      },
      "source": [
        "Put all the characters, that you've seen in the text, into variable `tokens`."
      ]
    },
    {
      "cell_type": "code",
      "metadata": {
        "id": "UijCZHsTw9S-"
      },
      "source": [
        "tokens = sorted(set(out))"
      ],
      "execution_count": 192,
      "outputs": []
    },
    {
      "cell_type": "markdown",
      "metadata": {
        "id": "kxj8P2Vjw9S-"
      },
      "source": [
        "Create dictionary `token_to_idx = {<char>: <index>}` and dictionary `idx_to_token = {<index>: <char>}`"
      ]
    },
    {
      "cell_type": "code",
      "metadata": {
        "collapsed": true,
        "id": "HSCTXW8mw9S-"
      },
      "source": [
        "# dict <index>:<char>\n",
        "idx_to_token = {idx: tok for tok,idx in zip(tokens, range(len(tokens)))}\n",
        "\n",
        "# dict <char>:<index>\n",
        "token_to_idx = {tok: idx for tok,idx in zip(tokens, range(len(tokens)))}"
      ],
      "execution_count": 193,
      "outputs": []
    },
    {
      "cell_type": "code",
      "metadata": {
        "colab": {
          "base_uri": "https://localhost:8080/"
        },
        "id": "4-5d229f65l5",
        "outputId": "7075be48-4864-4d7e-d2eb-b5e6d425a918"
      },
      "source": [
        "len(token_to_idx)"
      ],
      "execution_count": 194,
      "outputs": [
        {
          "output_type": "execute_result",
          "data": {
            "text/plain": [
              "38"
            ]
          },
          "metadata": {
            "tags": []
          },
          "execution_count": 194
        }
      ]
    },
    {
      "cell_type": "code",
      "metadata": {
        "id": "og7bz2VxWcin"
      },
      "source": [
        "# Split to chunks by beginning of new sonnet, filter only long ones, delete unneccesary spaces\n",
        "chunks = text.split('\\n\\n')\n",
        "chunks = [line.strip() for line in chunks if len(line) > 20]\n",
        "chunks = [ch.replace('  ', ' ') for ch in chunks] # .replace('\\n', '')"
      ],
      "execution_count": 195,
      "outputs": []
    },
    {
      "cell_type": "code",
      "metadata": {
        "colab": {
          "base_uri": "https://localhost:8080/"
        },
        "id": "IiAzVeKq9pp_",
        "outputId": "afd361d2-9212-495e-92fc-ce9f4b0ae88e"
      },
      "source": [
        "chunks[:3]"
      ],
      "execution_count": 196,
      "outputs": [
        {
          "output_type": "execute_result",
          "data": {
            "text/plain": [
              "[\"from fairest creatures we desire increase,\\n that thereby beauty's rose might never die,\\n but as the riper should by time decease,\\n his tender heir might bear his memory:\\n but thou, contracted to thine own bright eyes,\\n feed'st thy light's flame with self-substantial fuel,\\n making a famine where abundance lies,\\n thy self thy foe, to thy sweet self too cruel:\\n thou that art now the world's fresh ornament,\\n and only herald to the gaudy spring,\\n within thine own bud buriest thy content,\\n and tender churl mak'st waste in niggarding:\\n  pity the world, or else this glutton be,\\n  to eat the world's due, by the grave and thee.\",\n",
              " \"when forty winters shall besiege thy brow,\\n and dig deep trenches in thy beauty's field,\\n thy youth's proud livery so gazed on now,\\n will be a tatter'd weed of small worth held:\\n then being asked, where all thy beauty lies,\\n where all the treasure of thy lusty days;\\n to say, within thine own deep sunken eyes,\\n were an all-eating shame, and thriftless praise.\\n how much more praise deserv'd thy beauty's use,\\n if thou couldst answer 'this fair child of mine\\n shall sum my count, and make my old excuse,'\\n proving his beauty by succession thine!\\n  this were to be new made when thou art old,\\n  and see thy blood warm when thou feel'st it cold.\",\n",
              " \"look in thy glass and tell the face thou viewest\\n now is the time that face should form another;\\n whose fresh repair if now thou not renewest,\\n thou dost beguile the world, unbless some mother.\\n for where is she so fair whose unear'd womb\\n disdains the tillage of thy husbandry?\\n or who is he so fond will be the tomb,\\n of his self-love to stop posterity?\\n thou art thy mother's glass and she in thee\\n calls back the lovely april of her prime;\\n so thou through windows of thine age shalt see,\\n despite of wrinkles this thy golden time.\\n  but if thou live, remember'd not to be,\\n  die single and thine image dies with thee.\"]"
            ]
          },
          "metadata": {
            "tags": []
          },
          "execution_count": 196
        }
      ]
    },
    {
      "cell_type": "code",
      "metadata": {
        "id": "BAmmVeM6L250"
      },
      "source": [
        "num_tokens = len(tokens)"
      ],
      "execution_count": 197,
      "outputs": []
    },
    {
      "cell_type": "markdown",
      "metadata": {
        "id": "UD_3akCyw9S_"
      },
      "source": [
        "### Building the model"
      ]
    },
    {
      "cell_type": "markdown",
      "metadata": {
        "id": "kOufsFV4w9S_"
      },
      "source": [
        "Now we want to build and train recurrent neural net which would be able to something similar to Shakespeare's poetry.\n",
        "\n",
        "Let's use vanilla RNN, similar to the one created during the lesson."
      ]
    },
    {
      "cell_type": "code",
      "metadata": {
        "id": "Q7BeojkIMTm4"
      },
      "source": [
        "import torch, torch.nn as nn\n",
        "import numpy as np\n",
        "import torch.nn.functional as F\n",
        "import random\n",
        "import tqdm\n",
        "\n",
        "from IPython.display import clear_output\n",
        "import matplotlib.pyplot as plt\n",
        "%matplotlib inline"
      ],
      "execution_count": 8,
      "outputs": []
    },
    {
      "cell_type": "code",
      "metadata": {
        "id": "AI5YozhTVZNm"
      },
      "source": [
        "def to_matrix(lines, max_len=None, pad=token_to_idx[' '],\n",
        "              dtype=\"int32\", batch_first=True):\n",
        "    \"\"\"Casts a list of texts into RNN-digestable matrix.\"\"\"\n",
        "    max_len = max_len or max(map(len, lines))\n",
        "    lines_ix = np.zeros([len(lines), max_len], dtype) + pad\n",
        "\n",
        "    for i in range(len(lines)):\n",
        "        line_ix = [token_to_idx[c] for c in lines[i]]\n",
        "        lines_ix[i, :len(line_ix)] = line_ix\n",
        "\n",
        "    if not batch_first:  # convert [batch, time] into [time, batch]\n",
        "        lines_ix = np.transpose(lines_ix)\n",
        "\n",
        "    return lines_ix #, max_len"
      ],
      "execution_count": 28,
      "outputs": []
    },
    {
      "cell_type": "code",
      "metadata": {
        "id": "a9qxvGnGmpSo"
      },
      "source": [
        "class CharRNNCell(nn.Module):\n",
        "    def __init__(self, num_tokens=len(tokens), embedding_size=32,\n",
        "                 rnn_num_units=128):\n",
        "        super(self.__class__, self).__init__()\n",
        "\n",
        "        self.num_units = rnn_num_units\n",
        "        self.embedding = nn.Embedding(num_tokens, embedding_size)\n",
        "        self.rnn_update = nn.Linear(embedding_size + rnn_num_units,\n",
        "                                    rnn_num_units)\n",
        "        self.rnn_to_logits = nn.Linear(rnn_num_units, num_tokens)\n",
        "\n",
        "    def forward(self, x, h_prev):\n",
        "        \"\"\"\n",
        "        This method computes h_next(x, h_prev) and log P(x_next | h_next). \n",
        "        We'll call it repeatedly to produce the whole sequence.\n",
        "\n",
        "        :param x: batch of character ids, containing vector of int64 type\n",
        "        :param h_prev: previous RNN hidden states, containing matrix \n",
        "        [batch, rnn_num_units] of float32 type\n",
        "        \"\"\"\n",
        "        # get vector embedding of x\n",
        "        x_emb = self.embedding(x)\n",
        "\n",
        "        # compute next hidden state using self.rnn_update\n",
        "        x_and_h = torch.cat([h_prev, x_emb], dim=-1)\n",
        "        h_next = self.rnn_update(x_and_h)\n",
        "        h_next = torch.tanh(h_next)\n",
        "\n",
        "        assert h_next.size() == h_prev.size()\n",
        "\n",
        "        # compute logits for the next character probs\n",
        "        logits = self.rnn_to_logits(h_next)\n",
        "\n",
        "        return h_next, F.log_softmax(logits, -1)\n",
        "\n",
        "    def initial_state(self, batch_size):\n",
        "        \"\"\"Return RNN state before it processes the first input (h0).\"\"\"\n",
        "        return torch.zeros(batch_size, self.num_units, requires_grad=True)"
      ],
      "execution_count": 43,
      "outputs": []
    },
    {
      "cell_type": "code",
      "metadata": {
        "id": "6J22vxZGoHXB"
      },
      "source": [
        "def rnn_loop(char_rnn, batch_ix):\n",
        "    \"\"\"\n",
        "    Computes log P(next_character) for all time steps in names_ix.\n",
        "    :param names_ix: an int32 matrix of shape [batch, time], \n",
        "    output of to_matrix(names)\n",
        "    \"\"\"\n",
        "    batch_size, max_length = batch_ix.size()\n",
        "    hid_state = char_rnn.initial_state(batch_size)\n",
        "\n",
        "    logprobs = []\n",
        "    for x_t in batch_ix.transpose(0, 1):\n",
        "        hid_state, logp_next = char_rnn(x_t, hid_state)  # single step call\n",
        "        logprobs.append(logp_next)\n",
        "        \n",
        "    return torch.stack(logprobs, dim=1)"
      ],
      "execution_count": 13,
      "outputs": []
    },
    {
      "cell_type": "markdown",
      "metadata": {
        "id": "YIMZ298nqsRZ"
      },
      "source": [
        "Training loop"
      ]
    },
    {
      "cell_type": "markdown",
      "metadata": {
        "id": "YEpBnguzw9S_"
      },
      "source": [
        "Plot the loss function (axis X: number of epochs, axis Y: loss function)."
      ]
    },
    {
      "cell_type": "code",
      "metadata": {
        "colab": {
          "base_uri": "https://localhost:8080/"
        },
        "id": "hOjl0oYKqote",
        "outputId": "4ef2bcd0-a608-4435-c879-bc3aa1323cc1"
      },
      "source": [
        "char_rnn = CharRNNCell()\n",
        "criterion = nn.NLLLoss()\n",
        "opt = torch.optim.Adam(char_rnn.parameters(), lr=1e-3)\n",
        "history = []\n",
        "char_rnn"
      ],
      "execution_count": 150,
      "outputs": [
        {
          "output_type": "execute_result",
          "data": {
            "text/plain": [
              "CharRNNCell(\n",
              "  (embedding): Embedding(38, 32)\n",
              "  (rnn_update): Linear(in_features=160, out_features=128, bias=True)\n",
              "  (rnn_to_logits): Linear(in_features=128, out_features=38, bias=True)\n",
              ")"
            ]
          },
          "metadata": {
            "tags": []
          },
          "execution_count": 150
        }
      ]
    },
    {
      "cell_type": "code",
      "metadata": {
        "colab": {
          "base_uri": "https://localhost:8080/",
          "height": 299
        },
        "id": "XC6cyJLMqoqt",
        "outputId": "23633b09-cc04-40d8-d89a-bb66d9131868"
      },
      "source": [
        "%%time\n",
        "for i in range(1000):\n",
        "    batch_ix = to_matrix(random.sample(chunks, 32))\n",
        "    batch_ix = torch.tensor(batch_ix, dtype=torch.int64)\n",
        "\n",
        "    logp_seq = rnn_loop(char_rnn, batch_ix)\n",
        "\n",
        "    # compute loss\n",
        "    predictions_logp = logp_seq[:, :-1]\n",
        "    actual_next_tokens = batch_ix[:, 1:]\n",
        "\n",
        "    loss = criterion(predictions_logp.contiguous().view(-1, num_tokens),\n",
        "                     actual_next_tokens.contiguous().view(-1))\n",
        "\n",
        "    # train with backprop\n",
        "    loss.backward()\n",
        "    opt.step()\n",
        "    opt.zero_grad()\n",
        "\n",
        "    history.append(loss.data.numpy())\n",
        "    if (i + 1) % 100 == 0:\n",
        "        clear_output(True)\n",
        "        plt.plot(history, label=\"loss\")\n",
        "        plt.legend()\n",
        "        plt.show()\n",
        "\n",
        "assert np.mean(history[:10]) > np.mean(history[-10:]), \"RNN didn't converge.\""
      ],
      "execution_count": 45,
      "outputs": [
        {
          "output_type": "display_data",
          "data": {
            "image/png": "[encoded data removed]",
            "text/plain": [
              "<Figure size 432x288 with 1 Axes>"
            ]
          },
          "metadata": {
            "tags": [],
            "needs_background": "light"
          }
        },
        {
          "output_type": "stream",
          "text": [
            "CPU times: user 5min 18s, sys: 3.66 s, total: 5min 22s\n",
            "Wall time: 5min 21s\n"
          ],
          "name": "stdout"
        }
      ]
    },
    {
      "cell_type": "code",
      "metadata": {
        "id": "Xncn4529w9S_"
      },
      "source": [
        "def generate_sample(char_rnn, seed_phrase=' ', max_length=100,\n",
        "                    temperature=1.0):\n",
        "    \"\"\"\n",
        "    The function generates text given a phrase of length of at least SEQ_LENGTH.\n",
        "    :param seed_phrase: prefix characters, the sequence that the RNN \n",
        "    is asked to continue\n",
        "    :param max_length: maximum output length, including seed_phrase length\n",
        "    :param temperature: coefficient for sampling; higher temperature produces \n",
        "    more chaotic outputs, smaller temperature converges to the single \n",
        "    most likely output\n",
        "    \"\"\"\n",
        "    x_sequence = [token_to_idx[token] for token in seed_phrase]\n",
        "    x_sequence = torch.tensor([x_sequence], dtype=torch.int64)\n",
        "    hid_state = char_rnn.initial_state(batch_size=1)\n",
        "\n",
        "    # feed the seed phrase if there is any\n",
        "    for i in range(len(seed_phrase) - 1):\n",
        "        hid_state, _ = char_rnn(x_sequence[:, i], hid_state)\n",
        "\n",
        "    print(x_sequence[:, -1].shape, hid_state.shape)\n",
        "    # start generating\n",
        "    for _ in range(max_length - len(seed_phrase)):\n",
        "        hid_state, logp_next = char_rnn(x_sequence[:, -1], hid_state)\n",
        "        p_next = F.softmax(logp_next / temperature, dim=-1).data.numpy()[0]\n",
        "\n",
        "        # sample next token and push it back into x_sequence\n",
        "        next_ix = np.random.choice(num_tokens, p=p_next)\n",
        "        next_ix = torch.tensor([[next_ix]], dtype=torch.int64)\n",
        "        x_sequence = torch.cat([x_sequence, next_ix], dim=-1)\n",
        "\n",
        "    return ''.join([tokens[ix] for ix in x_sequence.data.numpy()[0]])"
      ],
      "execution_count": 84,
      "outputs": []
    },
    {
      "cell_type": "code",
      "metadata": {
        "colab": {
          "base_uri": "https://localhost:8080/"
        },
        "id": "jdXUybAgHfPe",
        "outputId": "98850d6e-cb2f-4cd8-f945-58de7eb77ab8"
      },
      "source": [
        "# An example of generated text.\n",
        "print(generate_sample(char_rnn, max_length=500, temperature=0.5))"
      ],
      "execution_count": 50,
      "outputs": [
        {
          "output_type": "stream",
          "text": [
            " but, for the sumble state,\n",
            "  and the was in the with thee the true still of thy worth the some beauty the periest be the grace his mady thy beauty in my love thee,\n",
            "    thou where the words on the shall to chalange?\n",
            "  thou the wart unsell his show,\n",
            "  the ear your self so sument that he rest,\n",
            "  which in the world of that and they fire,\n",
            "    the thou my love in fair fallers in my love beauty's beauty berown, and lives shall the full on the gerse the with the sweet and three remear say i of heart th\n"
          ],
          "name": "stdout"
        }
      ]
    },
    {
      "cell_type": "markdown",
      "metadata": {
        "id": "M6rRlWqew9TA"
      },
      "source": [
        "### More poetic model\n",
        "\n",
        "Let's use LSTM instead of vanilla RNN and compare the results."
      ]
    },
    {
      "cell_type": "code",
      "metadata": {
        "id": "c3Me81fyxpPV"
      },
      "source": [
        "class CharLSTM(nn.Module):\n",
        "    def __init__(self, num_tokens=num_tokens, emb_size=num_tokens,\n",
        "                 num_units=64, num_layers=2, dropout=0.01):\n",
        "        super(self.__class__, self).__init__()\n",
        "\n",
        "        self.num_units = num_units\n",
        "        self.num_layers = num_layers\n",
        "        self.emb = nn.Embedding(num_tokens, emb_size)\n",
        "        self.rnn = nn.LSTM(emb_size, num_units, batch_first=True,\n",
        "                           num_layers=num_layers, dropout=dropout)\n",
        "        self.hid_to_logits = nn.Linear(num_units, num_tokens)\n",
        "\n",
        "    def forward(self, x, hid_state = None):\n",
        "        if hid_state is None:\n",
        "            h_seq, _ = self.rnn(self.emb(x))\n",
        "            next_logits = self.hid_to_logits(h_seq)\n",
        "            next_logp = F.log_softmax(next_logits, dim=-1)\n",
        "            return next_logp\n",
        "        else:\n",
        "            h_seq, hid_state = self.rnn(self.emb(x), hid_state)\n",
        "            next_logits = self.hid_to_logits(h_seq)\n",
        "            next_logp = F.log_softmax(next_logits, dim=-1)\n",
        "            return next_logp, hid_state\n",
        "    \n",
        "    def initial_state(self, batch_size):\n",
        "        \"\"\"Return RNN state before it processes the first input (h0).\"\"\"\n",
        "        return torch.zeros(self.num_layers, batch_size, self.num_units), torch.zeros(self.num_layers, batch_size, self.num_units)"
      ],
      "execution_count": 176,
      "outputs": []
    },
    {
      "cell_type": "code",
      "metadata": {
        "colab": {
          "base_uri": "https://localhost:8080/"
        },
        "id": "rh11_1Hc0uzZ",
        "outputId": "9a29d2b1-66b3-4b79-c6d2-06197dffe43f"
      },
      "source": [
        "char_lstm = CharLSTM(num_layers=2, num_units=196, dropout=0.05)\n",
        "opt = torch.optim.Adam(char_lstm.parameters(), lr=1e-2)\n",
        "criterion = nn.NLLLoss()\n",
        "history = []\n",
        "char_lstm"
      ],
      "execution_count": 181,
      "outputs": [
        {
          "output_type": "execute_result",
          "data": {
            "text/plain": [
              "CharLSTM(\n",
              "  (emb): Embedding(38, 38)\n",
              "  (rnn): LSTM(38, 196, num_layers=2, batch_first=True, dropout=0.05)\n",
              "  (hid_to_logits): Linear(in_features=196, out_features=38, bias=True)\n",
              ")"
            ]
          },
          "metadata": {
            "tags": []
          },
          "execution_count": 181
        }
      ]
    },
    {
      "cell_type": "markdown",
      "metadata": {
        "id": "vpvIKeU2w9TA"
      },
      "source": [
        "Plot the loss function of the number of epochs. Does the final loss become better?"
      ]
    },
    {
      "cell_type": "code",
      "metadata": {
        "collapsed": true,
        "id": "UeHJh_vaw9TB",
        "colab": {
          "base_uri": "https://localhost:8080/",
          "height": 299
        },
        "outputId": "82505915-f0be-4e63-cdb9-3086b6d8a6b0"
      },
      "source": [
        "%%time\n",
        "char_lstm.train()\n",
        "for i in range(1000):\n",
        "    batch_ix = to_matrix(random.sample(chunks, 64))\n",
        "    batch_ix = torch.tensor(batch_ix, dtype=torch.int64)\n",
        "\n",
        "    logp_seq = char_lstm(batch_ix)\n",
        "\n",
        "    # compute loss\n",
        "    loss = criterion(logp_seq[:, :-1].contiguous().view(-1, num_tokens),\n",
        "                     batch_ix[:, 1:].contiguous().view(-1))\n",
        "\n",
        "    # train with backprop\n",
        "    loss.backward()\n",
        "    opt.step()\n",
        "    opt.zero_grad()\n",
        "\n",
        "    history.append(loss.data.numpy())\n",
        "    if (i + 1) % 100 == 0:\n",
        "        clear_output(True)\n",
        "        plt.plot(history,label=\"loss\")\n",
        "        plt.legend()\n",
        "        plt.show()\n",
        "\n",
        "assert np.mean(history[:10]) > np.mean(history[-10:]), \"RNN didn't converge.\""
      ],
      "execution_count": 182,
      "outputs": [
        {
          "output_type": "display_data",
          "data": {
            "image/png": "[encoded data removed]",
            "text/plain": [
              "<Figure size 432x288 with 1 Axes>"
            ]
          },
          "metadata": {
            "tags": [],
            "needs_background": "light"
          }
        },
        {
          "output_type": "stream",
          "text": [
            "CPU times: user 1h 2min 42s, sys: 1min 5s, total: 1h 3min 47s\n",
            "Wall time: 1h 3min 36s\n"
          ],
          "name": "stdout"
        }
      ]
    },
    {
      "cell_type": "code",
      "metadata": {
        "id": "aFx3FHh_6PkP"
      },
      "source": [
        "def generate_sample_lstm(model, seed_phrase=' ', max_length=100,\n",
        "                    temperature=1.0):\n",
        "    x_sequence = [token_to_idx[token] for token in seed_phrase]\n",
        "    x_sequence = torch.tensor([x_sequence], dtype=torch.int64)\n",
        "    hid_state = model.initial_state(batch_size=1)\n",
        "\n",
        "    # feed the seed phrase if there is any\n",
        "    for i in range(len(seed_phrase) - 1):\n",
        "        hid_state, _ = model(x_sequence[:, i], hid_state)\n",
        "\n",
        "    # start generating\n",
        "    for i in range(max_length - len(seed_phrase)):\n",
        "        logp_next, hid_state = model(x_sequence[..., -1:], hid_state)\n",
        "        p_next = F.softmax(logp_next / temperature, dim=-1).data.numpy().squeeze()\n",
        "        # sample next token and push it back into x_sequence\n",
        "        next_ix = np.random.choice(num_tokens, p=p_next)\n",
        "        next_ix = torch.tensor([[next_ix]], dtype=torch.int64)\n",
        "        x_sequence = torch.cat([x_sequence, next_ix], dim=-1)\n",
        "\n",
        "    return ''.join([tokens[ix] for ix in x_sequence.data.numpy()[0]])"
      ],
      "execution_count": 138,
      "outputs": []
    },
    {
      "cell_type": "markdown",
      "metadata": {
        "id": "tUHI0YbTw9TB"
      },
      "source": [
        "Generate text using the trained net with different `temperature` parameter: `[0.1, 0.2, 0.5, 1.0, 2.0]`.\n",
        "\n",
        "Evaluate the results visually, try to interpret them."
      ]
    },
    {
      "cell_type": "code",
      "metadata": {
        "collapsed": true,
        "id": "gF9o-63gw9TB",
        "colab": {
          "base_uri": "https://localhost:8080/"
        },
        "outputId": "45da8f46-cead-442e-98de-0f08a7c2becf"
      },
      "source": [
        "for temp in [0.1, 0.2, 0.5, 1.0, 2.0]:\n",
        "    print(temp, ':')\n",
        "    print(generate_sample_lstm(char_lstm, max_length=500, temperature=temp))"
      ],
      "execution_count": 200,
      "outputs": [
        {
          "output_type": "stream",
          "text": [
            "0.1 :\n",
            " with presence beauty with melays of laws,\n",
            "  so my sun of your fair that your powerful reasons on that with their habes not then as when first, which makes thy face,\n",
            " on his cheek the treasure of thy amiss,\n",
            " like the defect,\n",
            " they are but dreams beguil'd,\n",
            " which lave and love's breath thou didst forsake me by looking of worth; for compile,\n",
            " or made his adjunct the world must die:\n",
            " the counterforial slave and love knows\n",
            " where thought,\n",
            " in their gazing spent?\n",
            " no marvel thence, be unthough their \n",
            "0.2 :\n",
            " with words must not is my love, to the ear that beauty where thou art more lovely and mutution die.\n",
            "  the breast do thy worst to steal without think of thee, my loss is in my thought,\n",
            " to let us distill'd from limbeckss be travels, and wrow the sun;\n",
            " coral is partly lively new cruel and means comments o'er durs themelled fair, but for my love, and alive this self, that i am, there all men risent repart doth write for my love, knowsh thee in their right, where thou art the wind,\n",
            " or captase eyes\n",
            "0.5 :\n",
            " thou stis sea and land,\n",
            " and putt of beauty set,\n",
            " and you in errswearing the first,\n",
            "  i will not part cor am hath more return fair, as with what is borr were an alle't one hatter words of their servic'd that trustance knowing, only appear.\n",
            " your slave each offending beging unseen,\n",
            " when i saw my way,\n",
            " when that churl doth speak, though doth shames and idle hours nor which should that harvest such cheeks with compare,\n",
            " come in the spring,\n",
            " when i may by and by loving thought:\n",
            " 'hadown with thee \n",
            "1.0 :\n",
            " where cupit be heaven-see's truey desire,\n",
            " ton main o'er rose,\n",
            " when mine some in their well besiege thy looks with sweets to flower before here', will bear lines be true, the painly to make the lays of bittern twain,\n",
            " let, give strange ill,\n",
            " and friend, and thou muse lack.                                                                                                                                                                                                                                 \n",
            "2.0 :\n",
            " may each can mened, and die as fast as th telling love's eye's vongury dend,\n",
            " in , thy hours, andor i say 'to now i ma mort:\n",
            " th trrushion,\n",
            " spy, exemack;\n",
            " ror another eternal gloak,\n",
            " myself i'll famis with moticue depend:\n",
            " \n",
            " wetche with themself with that on the lily'se;\n",
            " now revoling and sims, thy constancy,\n",
            " and keeps your vexe\n",
            " under their witherch beguse untern'. the violet ealane.    the prove,\n",
            "  fleshing 'now thyself-gied, -wish! ho jow time but the part i can a voner's night,\n",
            " i sight t\n"
          ],
          "name": "stdout"
        }
      ]
    },
    {
      "cell_type": "markdown",
      "metadata": {
        "id": "v8S2NfgZJpu6"
      },
      "source": [
        "The bigger temperature coffecient gets, the more chaotic output is. At temp = 2 many words are not even real. And, on the contrary, at the smallest values, words are more primitive and tend to repeat. So, it is better to choose this coefffecient somewhere in the middle"
      ]
    },
    {
      "cell_type": "markdown",
      "metadata": {
        "id": "cs91QKeJPkFL"
      },
      "source": [
        "Final result is also better than with RNN."
      ]
    },
    {
      "cell_type": "markdown",
      "metadata": {
        "id": "KXzvjqIpw9TB"
      },
      "source": [
        "### Saving and loading models"
      ]
    },
    {
      "cell_type": "markdown",
      "metadata": {
        "id": "VYxLjuGjw9TB"
      },
      "source": [
        "Save the model to the disk, then load it and generate text. Examples are available [here](https://pytorch.org/tutorials/beginner/saving_loading_models.html])."
      ]
    },
    {
      "cell_type": "code",
      "metadata": {
        "id": "qod8hoFqO7MA"
      },
      "source": [
        "torch.save(char_lstm.state_dict(), 'Char_LSTM_Shakespeare.pth')"
      ],
      "execution_count": 208,
      "outputs": []
    },
    {
      "cell_type": "code",
      "metadata": {
        "colab": {
          "base_uri": "https://localhost:8080/"
        },
        "id": "GcivxUvWD5pZ",
        "outputId": "720dff51-0e35-4702-eade-36f33706346b"
      },
      "source": [
        "loaded_model = CharLSTM(num_layers=2, num_units=196, dropout=0.05)\n",
        "loaded_model.load_state_dict(torch.load('Char_LSTM_Shakespeare.pth'))"
      ],
      "execution_count": 210,
      "outputs": [
        {
          "output_type": "execute_result",
          "data": {
            "text/plain": [
              "<All keys matched successfully>"
            ]
          },
          "metadata": {
            "tags": []
          },
          "execution_count": 210
        }
      ]
    },
    {
      "cell_type": "code",
      "metadata": {
        "colab": {
          "base_uri": "https://localhost:8080/",
          "height": 69
        },
        "id": "NE-h_04EPTEU",
        "outputId": "a4206872-6f1a-4a08-ce56-afeeab865919"
      },
      "source": [
        "generate_sample_lstm(loaded_model, max_length=300, temperature=0.7)"
      ],
      "execution_count": 211,
      "outputs": [
        {
          "output_type": "execute_result",
          "data": {
            "application/vnd.google.colaboratory.intrinsic+json": {
              "type": "string"
            },
            "text/plain": [
              "\"  thou couldst a vengue's rage,\\n withor this blessed in thee aid, so be,\\n making a couplement uside\\n to neven to forty, which pader for my love, thy pine, make me love knows the joy for complicws can set o'er-hway that the parts on the firert,\\n leaves out ornament was idolly veies with cruel; nor tr\""
            ]
          },
          "metadata": {
            "tags": []
          },
          "execution_count": 211
        }
      ]
    },
    {
      "cell_type": "markdown",
      "metadata": {
        "id": "2IFz_ieLw9TC"
      },
      "source": [
        "### References\n",
        "1. <a href='http://karpathy.github.io/2015/05/21/rnn-effectiveness/'> Andrew Karpathy blog post about RNN. </a> \n",
        "There are several examples of genration: Shakespeare texts, Latex formulas, Linux Sourse Code and children names.\n",
        "2. <a href='https://github.com/karpathy/char-rnn'> Repo with char-rnn code </a>\n",
        "3. Cool repo with PyTorch examples: [link](https://github.com/spro/practical-pytorch`)"
      ]
    }
  ]
}